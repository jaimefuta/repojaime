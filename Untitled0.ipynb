{
  "nbformat": 4,
  "nbformat_minor": 0,
  "metadata": {
    "colab": {
      "name": "Untitled0.ipynb",
      "provenance": [],
      "authorship_tag": "ABX9TyO5/21PJOTAOSR59EBVRbWq",
      "include_colab_link": true
    },
    "kernelspec": {
      "name": "python3",
      "display_name": "Python 3"
    }
  },
  "cells": [
    {
      "cell_type": "markdown",
      "metadata": {
        "id": "view-in-github",
        "colab_type": "text"
      },
      "source": [
        "<a href=\"https://colab.research.google.com/github/jaimefuta/repojaime/blob/master/Untitled0.ipynb\" target=\"_parent\"><img src=\"https://colab.research.google.com/assets/colab-badge.svg\" alt=\"Open In Colab\"/></a>"
      ]
    },
    {
      "cell_type": "code",
      "metadata": {
        "id": "Hqr68htSwx--",
        "colab_type": "code",
        "colab": {
          "base_uri": "https://localhost:8080/",
          "height": 51
        },
        "outputId": "0f4db71e-fb54-49b6-ad9e-deae5987a1b7"
      },
      "source": [
        "### isto é um comando de saída\n",
        "print('Olá Mundo Cruel!!!')\n",
        "print('Cruel World!!!')\n",
        "\n",
        "# a hastag é um comentário no código, ou seja, o programa não irá processar nenhuma linha que estiver marcada\n",
        "# o comando print() mostra na tela, ou seja, é uma saída de valor(es). \n",
        "# O conteúdo texto deve estar entre aspas (simples ou dupla)"
      ],
      "execution_count": 1,
      "outputs": [
        {
          "output_type": "stream",
          "text": [
            "Olá Mundo Cruel!!!\n",
            "Cruel World!!!\n"
          ],
          "name": "stdout"
        }
      ]
    }
  ]
}